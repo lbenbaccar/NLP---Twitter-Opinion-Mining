{
 "cells": [
  {
   "cell_type": "markdown",
   "metadata": {},
   "source": [
    "# Text cleaning with BeautifulSoup"
   ]
  },
  {
   "cell_type": "markdown",
   "metadata": {},
   "source": [
    "Our  first step should be manually checking the input data. This is pretty critical; with text data, one needs to try and understand what issues exist in the data initially so as to identify the cleaning needed.\n",
    "It's kind of painful to read through a dataset full of hateful Internet commentary, so here's an example entry:\n",
    "We have an ID field and date field which don't seem to need much work. The\n",
    "text fields, however, are quite challenging. From this one case, we can already see misspelling and HTML inclusion. Furthermore, many entries in the dataset contain attempts to bypass swear filtering, usually by including a space or punctuation element mid-word. Other data quality issues include multiple vowels (to extend a word), non-ascii characters, hyperlinks... the list goes on. \n",
    "BeautifulSoup is a very powerful html parsing library which can, among other things, remove HTML markup. Let's take a look at this library in action on our troll data:"
   ]
  },
  {
   "cell_type": "code",
   "execution_count": 20,
   "metadata": {},
   "outputs": [],
   "source": [
    "from bs4 import BeautifulSoup\n",
    "#import pandas as pd\n",
    "import re\n",
    "import csv\n",
    "\n",
    "#we're going to load in our test and training data \n",
    "#test = pd.read_csv('testtrolls.csv', header=True, names=['y', 'date', 'Comment'])\n",
    "#training = pd.read_csv('trainingtrolls.csv', header=True, names=['y', 'date', 'Comment', 'Usage'])\n",
    "\n",
    "trolls = []\n",
    "with open('trainingtrolls.csv',  'rt') as f:\n",
    "    reader = csv.DictReader(f)\n",
    "    for line in reader:\n",
    "        \n",
    "        line = BeautifulSoup(str(line[\"Comment\"]), \"html.parser\")  \n",
    "        trolls.append(line)"
   ]
  },
  {
   "cell_type": "markdown",
   "metadata": {},
   "source": [
    "# Managing punctuation and tokenizing"
   ]
  },
  {
   "cell_type": "markdown",
   "metadata": {},
   "source": [
    "Tokenisation is the process of creating a set of tokens from a stream of text. Many tokens are words, while others might be character sets (such as smilies or other punctuation strings, for example, ????????). \n",
    "\n",
    "Now that we've removed a lot of the HTML ugliness from our initial dataset, we can take steps to further improve the cleanliness of our text data. To do this, we'll leverage the \"re\" module, which allows us to use operations over regular expressions, such as substring replacement.\n",
    "\n",
    "We'll perform a series of operations over our input text on this pass, which mostly focus on replacing variable or problematic text elements with tokens. Let's begin with a simple example, replacing e-mail addresses with an _EM token:"
   ]
  },
  {
   "cell_type": "markdown",
   "metadata": {},
   "source": [
    "## Lets apply cleaning on one line"
   ]
  },
  {
   "cell_type": "code",
   "execution_count": 21,
   "metadata": {},
   "outputs": [
    {
     "name": "stdout",
     "output_type": "stream",
     "text": [
      "GALLUP DAILY\n",
      "May 24-26, 2012 – Updates daily at 1 p.m. ET; reflects one-day change\n",
      "No updates Monday, May 28; next update will be Tuesday, May 29.\n",
      "Obama Approval48%-\n",
      "Obama Disapproval45%-1\n",
      "PRESIDENTIAL ELECTION\n",
      "Obama47%-\n",
      "Romney45%-\n",
      "7-day rolling average\n",
      "\n",
      " It seems the bump Romney got is over and the president is on his game.\n"
     ]
    }
   ],
   "source": [
    "#line = trolls[0]\n",
    "#line = \"\"\"\\xa0@Flip\\xa0how are you not ded\"\"\"\n",
    "line = \"GALLUP DAILY\\nMay 24-26, 2012 \\u2013 Updates daily at 1 p.m. ET; reflects one-day change\\nNo updates Monday, May 28; next update will be Tuesday, May 29.\\nObama Approval48%-\\nObama Disapproval45%-1\\nPRESIDENTIAL ELECTION\\nObama47%-\\nRomney45%-\\n7-day rolling average\\n\\n It seems the bump Romney got is over and the president is on his game.\"\n",
    "print(line)"
   ]
  },
  {
   "cell_type": "markdown",
   "metadata": {},
   "source": [
    "Replacing e-mail addresses with an _EM token:"
   ]
  },
  {
   "cell_type": "code",
   "execution_count": 22,
   "metadata": {},
   "outputs": [
    {
     "name": "stdout",
     "output_type": "stream",
     "text": [
      "GALLUP DAILY\n",
      "May 24-26, 2012 – Updates daily at 1 p.m. ET; reflects one-day change\n",
      "No updates Monday, May 28; next update will be Tuesday, May 29.\n",
      "Obama Approval48%-\n",
      "Obama Disapproval45%-1\n",
      "PRESIDENTIAL ELECTION\n",
      "Obama47%-\n",
      "Romney45%-\n",
      "7-day rolling average\n",
      "\n",
      " It seems the bump Romney got is over and the president is on his game.\n"
     ]
    }
   ],
   "source": [
    "line = re.sub(r'[\\w\\-][\\w\\-\\.]+@[\\w\\-][\\w\\-\\.]+[a-zA-Z]{1,4}', '_EM', str(line))\n",
    "print(line)"
   ]
  },
  {
   "cell_type": "markdown",
   "metadata": {},
   "source": [
    "Replacing e-mail addresses with an _EM token:"
   ]
  },
  {
   "cell_type": "code",
   "execution_count": 23,
   "metadata": {},
   "outputs": [
    {
     "name": "stdout",
     "output_type": "stream",
     "text": [
      "GALLUP DAILY\n",
      "May 24-26, 2012 – Updates daily at 1 p.m. ET; reflects one-day change\n",
      "No updates Monday, May 28; next update will be Tuesday, May 29.\n",
      "Obama Approval48%-\n",
      "Obama Disapproval45%-1\n",
      "PRESIDENTIAL ELECTION\n",
      "Obama47%-\n",
      "Romney45%-\n",
      "7-day rolling average\n",
      "\n",
      " It seems the bump Romney got is over and the president is on his game.\n"
     ]
    }
   ],
   "source": [
    "line = re.sub(r'[\\w\\-][\\w\\-\\.]+@[\\w\\-][\\w\\-\\.]+[a-zA-Z]{1,4}', '_EM', str(line))\n",
    "print(line)"
   ]
  },
  {
   "cell_type": "markdown",
   "metadata": {},
   "source": [
    " Similarly, we can remove URLs, replacing them with the _U token:"
   ]
  },
  {
   "cell_type": "code",
   "execution_count": 24,
   "metadata": {},
   "outputs": [
    {
     "name": "stdout",
     "output_type": "stream",
     "text": [
      "GALLUP DAILY\n",
      "May 24-26, 2012 – Updates daily at 1 p.m. ET; reflects one-day change\n",
      "No updates Monday, May 28; next update will be Tuesday, May 29.\n",
      "Obama Approval48%-\n",
      "Obama Disapproval45%-1\n",
      "PRESIDENTIAL ELECTION\n",
      "Obama47%-\n",
      "Romney45%-\n",
      "7-day rolling average\n",
      "\n",
      " It seems the bump Romney got is over and the president is on his game.\n"
     ]
    }
   ],
   "source": [
    "line = re.sub(r'\\w+:\\/\\/\\S+', r'_U', line)\n",
    "print(line)"
   ]
  },
  {
   "cell_type": "markdown",
   "metadata": {},
   "source": [
    "Remove extra or problematic whitespace and newline characters, hyphens, and underscores. In addition, we'll begin managing the problem of multiple characters, often used for emphasis in informal conversation."
   ]
  },
  {
   "cell_type": "code",
   "execution_count": 25,
   "metadata": {},
   "outputs": [
    {
     "name": "stdout",
     "output_type": "stream",
     "text": [
      "GALLUP DAILY May 24 26, 2012 – Updates daily at 1 p.m. ET; reflects one day change No updates Monday, May 28; next update will be Tuesday, May 29. Obama Approval48% Obama Disapproval45% 1 PRESIDENTIAL ELECTION Obama47% Romney45% 7 day rolling average It seems the bump Romney got is over and the president is on his game.\n"
     ]
    }
   ],
   "source": [
    "line = line.replace('\"', ' ')\n",
    "line = line.replace('\\'', ' ')\n",
    "line = line.replace('_', ' ')\n",
    "line = line.replace('-', ' ')\n",
    "line = line.replace('\\n', ' ')\n",
    "line = line.replace('\\\\n', ' ')\n",
    "line = line.replace('\\'', ' ')\n",
    "line = re.sub(' +',' ', line)\n",
    "line = line.replace('\\'', ' ')\n",
    "print(line)"
   ]
  },
  {
   "cell_type": "markdown",
   "metadata": {},
   "source": [
    "Kill off any punctuation issues, employing tags (such as _Q, _X) where we feel the punctuation might lead to useful features.\n",
    "\n",
    "Extended series of punctuation characters are encoded here using codes such as _BQ and BX; these longer tags are used as a means of differentiating from the more straightforward _Q and _X tags (which refer to the use of a question mark and exclamation mark, respectively)."
   ]
  },
  {
   "cell_type": "code",
   "execution_count": 26,
   "metadata": {},
   "outputs": [
    {
     "name": "stdout",
     "output_type": "stream",
     "text": [
      "GALLUP DAILY May 24 26, 2012 – Updates daily at 1 pm. ET; reflects one day change No updates Monday, May 28; next update will be Tuesday, May 29. Obama Approval48% Obama Disapproval45% 1 PRESIDENTIAL ELECTION Obama47% Romney45% 7 day rolling average It seems the bump Romney got is over and the president is on his game.\n"
     ]
    }
   ],
   "source": [
    "line = re.sub(r'([^!\\?])(\\?{2,})(\\Z|[^!\\?])', r'\\1 _BQ\\n\\3', line)\n",
    "line = re.sub(r'([^\\.])(\\.{2,})', r'\\1 _SS\\n', line)\n",
    "line = re.sub(r'([^!\\?])(\\?|!){2,}(\\Z|[^!\\?])', r'\\1 _BX\\n\\3', line)\n",
    "line = re.sub(r'([^!\\?])\\?(\\Z|[^!\\?])', r'\\1 _Q\\n\\2', line)\n",
    "line = re.sub(r'([^!\\?])!(\\Z|[^!\\?])', r'\\1 _X\\n\\2', line)\n",
    "line = re.sub(r'([a-zA-Z])\\1\\1+(\\w*)', r'\\1\\1\\2 _EL', line)\n",
    "line = re.sub(r'([a-zA-Z])\\1\\1+(\\w*)', r'\\1\\1\\2 _EL', line)\n",
    "line = re.sub(r'(\\w+)\\.(\\w+)', r'\\1\\2', line)\n",
    "print(line)"
   ]
  },
  {
   "cell_type": "markdown",
   "metadata": {},
   "source": [
    "Next, we want to begin creating other tokens of interest. One of the more helpful indicators available is the _SW token for swearing. We'll also use regular expressions to help identify and tokenize smileys into one of four buckets; big and happy smileys (_BS), small and happy ones (_S), big and sad ones (_BF), and small and sad ones (_F):\n"
   ]
  },
  {
   "cell_type": "code",
   "execution_count": 27,
   "metadata": {},
   "outputs": [
    {
     "name": "stdout",
     "output_type": "stream",
     "text": [
      "GALLUP DAILY May  ,  – Updates daily at  pm. ET; reflects one day change No updates Monday, May ; next update will be Tuesday, May . Obama Approval Obama Disapproval  PRESIDENTIAL ELECTION Obama Romney  day rolling average It seems the bump Romney got is over and the president is on his game.\n"
     ]
    }
   ],
   "source": [
    "#Swears\n",
    "line = re.sub(r'([#%&\\*\\$]{2,})(\\w*)', r'\\1\\2 _SW', line)\n",
    "line = re.sub('[1|2|3|4|5|6|7|8|9|0]', '', line)\n",
    "# big and happy smileys       \n",
    "line = re.sub(r' [8x;:=]-?(?:\\)|\\}|\\]|>){2,}', r' _BS', line)\n",
    "# small and happy smileys       \n",
    "line = re.sub(r' (?:[;:=]-?[\\)\\}\\]d>])|(?:<3)', r' _S', line)\n",
    "#big and sad smileys\n",
    "line = re.sub(r' [x:=]-?(?:\\(|\\[|\\||\\\\|/|\\{|<){2,}', r' _BF', line)\n",
    "#small and sad\n",
    "line = re.sub(r' [x:=]-?[\\(\\[\\|\\\\/\\{<]', r' _F', line)\n",
    "line = re.sub('[%]', '', line)\n",
    "print(line)"
   ]
  },
  {
   "cell_type": "markdown",
   "metadata": {},
   "source": [
    " Now we're starting to split the comment into individual 1-word phrases, as an ['foo', 'bar', 'baz'] array instead of \"foo bar baz\""
   ]
  },
  {
   "cell_type": "code",
   "execution_count": 28,
   "metadata": {},
   "outputs": [
    {
     "name": "stdout",
     "output_type": "stream",
     "text": [
      "['GALLUP', 'DAILY', 'May', 'Updates', 'daily', 'at', 'pm', 'ET', 'reflects', 'one', 'day', 'change', 'No', 'updates', 'Monday', 'May', 'next', 'update', 'will', 'be', 'Tuesday', 'May', 'Obama', 'Approval', 'Obama', 'Disapproval', 'PRESIDENTIAL', 'ELECTION', 'Obama', 'Romney', 'day', 'rolling', 'average', 'It', 'seems', 'the', 'bump', 'Romney', 'got', 'is', 'over', 'and', 'the', 'president', 'is', 'on', 'his', 'game']\n"
     ]
    }
   ],
   "source": [
    "phrases = re.split(r'[;:\\.()\\n]', line)\n",
    "phrases = [re.findall(r'[\\w%\\*&#]+', ph) for ph in phrases]\n",
    "phrases = [ph for ph in phrases if ph]\n",
    "\n",
    "words = []\n",
    "        \n",
    "for ph in phrases:\n",
    "    words.extend(ph)\n",
    "print(words)"
   ]
  },
  {
   "cell_type": "markdown",
   "metadata": {},
   "source": [
    "Next, we perform a search for single-letter sequences. Sometimes, for emphasis, Internet communication involves the use of spaced single-letter chains. This may be attempted as a method of avoiding curse word detection:"
   ]
  },
  {
   "cell_type": "code",
   "execution_count": 29,
   "metadata": {},
   "outputs": [
    {
     "name": "stdout",
     "output_type": "stream",
     "text": [
      "['GALLUP', 'DAILY', 'May', 'Updates', 'daily', 'at', 'pm', 'ET', 'reflects', 'one', 'day', 'change', 'No', 'updates', 'Monday', 'May', 'next', 'update', 'will', 'be', 'Tuesday', 'May', 'Obama', 'Approval', 'Obama', 'Disapproval', 'PRESIDENTIAL', 'ELECTION', 'Obama', 'Romney', 'day', 'rolling', 'average', 'It', 'seems', 'the', 'bump', 'Romney', 'got', 'is', 'over', 'and', 'the', 'president', 'is', 'on', 'his', 'game']\n"
     ]
    }
   ],
   "source": [
    "tmp = words\n",
    "words = []\n",
    "new_word = ''\n",
    "for word in tmp:\n",
    "    if len(word) == 1:\n",
    "        new_word = new_word + word\n",
    "    else:\n",
    "        if new_word:\n",
    "            words.append(new_word)\n",
    "            new_word = ''\n",
    "        words.append(word)\n",
    "print(words)"
   ]
  },
  {
   "cell_type": "markdown",
   "metadata": {},
   "source": [
    "However, there are two significant problems still obvious in both examples. In\n",
    "the first case, we have a misspelled word; we need to  find a way to eliminate this. Secondly, a lot of the words in both examples (for example. are, pm) aren't terribly informative in and of themselves. The problem we  find, particularly for shorter text samples, is that what's left after cleaning may contain only one or two meaningful terms. If these terms are not terribly common in the corpus as a whole, it can prove to be very difficult to train a classifier to recognise these terms' significance."
   ]
  },
  {
   "cell_type": "markdown",
   "metadata": {},
   "source": [
    "# Tagging and categorising words"
   ]
  },
  {
   "cell_type": "markdown",
   "metadata": {},
   "source": [
    "English language words come in several types—nouns, verbs, adverbs, and so on. \n",
    "These are commonly referred to as parts of speech (POS). If we know that a certain word is an adjective, as opposed to a verb or stop word (such as a, the, or of), we can treat it differently or more importantly, our algorithm can!\n",
    "If we can perform part of speech tagging by identifying and encoding word classes as categorical variables, we're able to improve the quality of our data by retaining only the valuable content. \n",
    "We'll look at a subset of the applicable tagging techniques. \n",
    "Specifically, we'll focus on using the function pos_tag from the nltk library. The method tags words according to Penn treebank corpus. \n",
    "You can find the tags used in this method at this link:\n",
    "https://www.ling.upenn.edu/courses/Fall_2003/ling001/penn_treebank_pos.html\n",
    "You can find more details about pos_tag here:\n",
    "https://www.nltk.org/book/ch05.html\n"
   ]
  },
  {
   "cell_type": "markdown",
   "metadata": {},
   "source": [
    "## Filtering stop words"
   ]
  },
  {
   "cell_type": "markdown",
   "metadata": {},
   "source": [
    "\n",
    "Why eliminate stop words?, it tends to be true that stop words add little to nothing to most text analysis and can be responsible for a degree of noise and training variance. \n",
    "We can find the list of englisg stop words here:\n",
    "https://www.ranks.nl/stopwords\n",
    "\n",
    "Fortunately,  filtering stop words is pretty straightforward. \n",
    "We'll simply import NLTK, download and import the dictionaries, then perform a scan over all words in our pre-existing word vector, removing any stop words found:"
   ]
  },
  {
   "cell_type": "code",
   "execution_count": 30,
   "metadata": {},
   "outputs": [
    {
     "name": "stdout",
     "output_type": "stream",
     "text": [
      "['GALLUP', 'DAILY', 'May', 'Updates', 'daily', 'pm', 'ET', 'reflects', 'one', 'day', 'change', 'No', 'updates', 'Monday', 'May', 'next', 'update', 'Tuesday', 'May', 'Obama', 'Approval', 'Obama', 'Disapproval', 'PRESIDENTIAL', 'ELECTION', 'Obama', 'Romney', 'day', 'rolling', 'average', 'It', 'seems', 'bump', 'Romney', 'got', 'president', 'game']\n"
     ]
    }
   ],
   "source": [
    "import nltk\n",
    "from nltk.corpus import stopwords\n",
    "words = [w for w in words if not w in stopwords.words(\"english\")]\n",
    "print(words)\n",
    "\n"
   ]
  },
  {
   "cell_type": "markdown",
   "metadata": {},
   "source": [
    "## Tagging with NLTK"
   ]
  },
  {
   "cell_type": "markdown",
   "metadata": {},
   "source": [
    "Tagging is the process of identifying parts of speech, as we described previously, and applying tags to each term.\n",
    "However, even brief consideration will make it obvious that our use of language is a lot more complicated than this allows. We may use a word (such as ferry) as one of several parts of speech and it may not be straightforward to decide how to treat each word in every utterance. A lot of the time, the correct tag can only be understood contextually given the other words and their positioning within the phrase.\n"
   ]
  },
  {
   "cell_type": "code",
   "execution_count": 32,
   "metadata": {},
   "outputs": [
    {
     "name": "stdout",
     "output_type": "stream",
     "text": [
      "[[('gallup', 'NN')], [('daily', 'JJ')], [('may', 'MD')], [('updates', 'NNS')], [('daily', 'JJ')], [('pm', 'NN')], [('et', 'NN')], [('reflects', 'VBZ')], [('one', 'CD')], [('day', 'NN')], [('change', 'NN')], [('no', 'DT')], [('updates', 'NNS')], [('monday', 'NN')], [('may', 'MD')], [('next', 'JJ')], [('update', 'NN')], [('tuesday', 'NN')], [('may', 'MD')], [('obama', 'NN')], [('approval', 'NN')], [('obama', 'NN')], [('disapproval', 'NN')], [('presidential', 'JJ')], [('election', 'NN')], [('obama', 'NN')], [('romney', 'NN')], [('day', 'NN')], [('rolling', 'VBG')], [('average', 'JJ')], [('it', 'PRP')], [('seems', 'VBZ')], [('bump', 'NN')], [('romney', 'NN')], [('got', 'VBD')], [('president', 'NN')], [('game', 'NN')]]\n",
      "[('gallup', 'n'), ('daily', 'a'), ('may', 'n'), ('updates', 'n'), ('daily', 'a'), ('pm', 'n'), ('et', 'n'), ('reflects', 'v'), ('one', 'n'), ('day', 'n'), ('change', 'n'), ('no', 'n'), ('updates', 'n'), ('monday', 'n'), ('may', 'n'), ('next', 'a'), ('update', 'n'), ('tuesday', 'n'), ('may', 'n'), ('obama', 'n'), ('approval', 'n'), ('obama', 'n'), ('disapproval', 'n'), ('presidential', 'a'), ('election', 'n'), ('obama', 'n'), ('romney', 'n'), ('day', 'n'), ('rolling', 'v'), ('average', 'a'), ('it', 'n'), ('seems', 'v'), ('bump', 'n'), ('romney', 'n'), ('got', 'v'), ('president', 'n'), ('game', 'n')]\n"
     ]
    }
   ],
   "source": [
    "from nltk import pos_tag\n",
    "from nltk.corpus import wordnet\n",
    "tagged = []\n",
    "#nltk.download('averaged_perceptron_tagger')     \n",
    "#nltk.download('wordnet')\n",
    "for t in words:\n",
    "    t = t.lower()\n",
    "    treebank_tag = pos_tag([t])\n",
    "    tagged.append(treebank_tag)\n",
    "print(tagged)\n",
    "\n",
    " #this function just translates between the PoS tags used by our Treebank tagger and the WordNet equivalents.     \n",
    "#As it was trained with the Treebank corpus, it also uses the Treebank tag set.\n",
    "\n",
    "    \n",
    "def get_wordnet_pos(treebank_tag):\n",
    "\n",
    "    if treebank_tag[0][1].startswith('J'):\n",
    "        return wordnet.ADJ\n",
    "    elif treebank_tag[0][1].startswith('V'):\n",
    "        return wordnet.VERB\n",
    "    elif treebank_tag[0][1].startswith('N'):\n",
    "        return wordnet.NOUN\n",
    "    elif treebank_tag[0][1].startswith('R'):\n",
    "        return wordnet.ADV\n",
    "    else:\n",
    "        return wordnet.NOUN\n",
    "postagged = []\n",
    "for t in tagged:\n",
    "    newtag = t[0][0],get_wordnet_pos(t)\n",
    "   # print(get_wordnet_pos(t))\n",
    "    postagged.append(newtag)\n",
    "print(postagged)     "
   ]
  },
  {
   "cell_type": "markdown",
   "metadata": {},
   "source": [
    "# Creating features from text data"
   ]
  },
  {
   "cell_type": "markdown",
   "metadata": {},
   "source": [
    "Once we've engaged in well-thought-out text cleaning practices, we need to take additional steps to ensure that our text becomes useful features. In order to do this, we'll look at another set of staple techniques in NLP:\n",
    "\n",
    "• Stemming\n",
    "\n",
    "• Lemmatising\n",
    "\n",
    "• Bagging using random forests"
   ]
  },
  {
   "cell_type": "markdown",
   "metadata": {},
   "source": [
    "# #Stemming"
   ]
  },
  {
   "cell_type": "markdown",
   "metadata": {},
   "source": [
    "Another challenge when working with linguistic datasets is that multiple word forms exist for many word stems. For example, the root dance is the stem of multiple other words — dancing, dancer, dances, and so on. By finding a way to reduce this plurality of forms into stems, we find ourselves able to improve our POS tagging and apply new techniques such as lemmatisation."
   ]
  },
  {
   "cell_type": "markdown",
   "metadata": {},
   "source": [
    "The techniques that enable us to reduce words to their stems are called stemmers. Stemmers work by parsing words as consonant/vowel strings and applying a series of rules. The most popular stemmer is the porter stemmer, which works by performing the following steps;"
   ]
  },
  {
   "cell_type": "markdown",
   "metadata": {},
   "source": [
    "1. Simplifying the range of suf xes by reducing (for example, ies becomes i) to a smaller set.\n",
    "2. Removing suf xes in several passes, with each pass removing a set of suf x types (for example, past particple or plural suf xes such as ousness or alism).\n",
    "3. Once all suf xes are removed, cleaning up word endings by adding 'e's where needed (for example, ceas becomes cease).\n",
    "4. Removing double 'l's."
   ]
  },
  {
   "cell_type": "code",
   "execution_count": 33,
   "metadata": {},
   "outputs": [
    {
     "name": "stdout",
     "output_type": "stream",
     "text": [
      "['GALLUP', 'DAILY', 'May', 'Updates', 'daily', 'pm', 'ET', 'reflects', 'one', 'day', 'change', 'No', 'updates', 'Monday', 'May', 'next', 'update', 'Tuesday', 'May', 'Obama', 'Approval', 'Obama', 'Disapproval', 'PRESIDENTIAL', 'ELECTION', 'Obama', 'Romney', 'day', 'rolling', 'average', 'It', 'seems', 'bump', 'Romney', 'got', 'president', 'game']\n",
      "['gallup', 'daili', 'may', 'updat', 'daili', 'pm', 'ET', 'reflect', 'one', 'day', 'chang', 'No', 'updat', 'monday', 'may', 'next', 'updat', 'tuesday', 'may', 'obama', 'approv', 'obama', 'disapprov', 'presidenti', 'elect', 'obama', 'romney', 'day', 'roll', 'averag', 'It', 'seem', 'bump', 'romney', 'got', 'presid', 'game']\n"
     ]
    }
   ],
   "source": [
    "from nltk.stem import PorterStemmer\n",
    "stemmer = PorterStemmer()\n",
    "print(words)\n",
    "stemmed_words = []\n",
    "for w in words:\n",
    "    stemmed_words.append(stemmer.stem(w))\n",
    "print(stemmed_words)\n"
   ]
  },
  {
   "cell_type": "markdown",
   "metadata": {},
   "source": [
    "The output of this stemmer, as demonstrated on our pre-existing example, is the root form of the word. This may be a real word, or it may not; dancing, for instance, becomes danci. This is okay, but it's not really ideal. We can do better than this!\n"
   ]
  },
  {
   "cell_type": "markdown",
   "metadata": {},
   "source": [
    "# #Lemmatisation"
   ]
  },
  {
   "cell_type": "markdown",
   "metadata": {},
   "source": [
    "To consistently reach a real word form, let's apply a slightly different technique, lemmatisation. Lemmatisation is a more complex process to determine word stems; unlike porter stemming, it uses a different normalisation process for different parts of speech. Unlike Porter Stemming it also seeks to find actual roots for words. Where a stem does not have to be a real word, a lemma does. Lemmatization also takes\n",
    "on the challenge of reducing synonyms down to their roots. For example, where a stemmer might turn the term books into the term book, it isn't equipped to handle the term tome. A lemmatizer can process both books and tome, reducing both terms to book."
   ]
  },
  {
   "cell_type": "markdown",
   "metadata": {},
   "source": [
    "As a necessary prerequisite, we need the POS for each input token. Thankfully, we've already applied a POS tagger and can work straight from the results of\n",
    "that process!"
   ]
  },
  {
   "cell_type": "code",
   "execution_count": 1,
   "metadata": {},
   "outputs": [
    {
     "ename": "NameError",
     "evalue": "name 'words' is not defined",
     "output_type": "error",
     "traceback": [
      "\u001b[0;31m---------------------------------------------------------------------------\u001b[0m",
      "\u001b[0;31mNameError\u001b[0m                                 Traceback (most recent call last)",
      "\u001b[0;32m<ipython-input-1-ae20cf669e4a>\u001b[0m in \u001b[0;36m<module>\u001b[0;34m()\u001b[0m\n\u001b[1;32m      4\u001b[0m \u001b[0mlemmatizer\u001b[0m \u001b[0;34m=\u001b[0m \u001b[0mWordNetLemmatizer\u001b[0m\u001b[0;34m(\u001b[0m\u001b[0;34m)\u001b[0m\u001b[0;34m\u001b[0m\u001b[0m\n\u001b[1;32m      5\u001b[0m \u001b[0mlemmatized_words\u001b[0m \u001b[0;34m=\u001b[0m\u001b[0;34m[\u001b[0m\u001b[0;34m]\u001b[0m\u001b[0;34m\u001b[0m\u001b[0m\n\u001b[0;32m----> 6\u001b[0;31m \u001b[0;32mfor\u001b[0m \u001b[0mw\u001b[0m \u001b[0;32min\u001b[0m \u001b[0mwords\u001b[0m\u001b[0;34m:\u001b[0m\u001b[0;34m\u001b[0m\u001b[0m\n\u001b[0m\u001b[1;32m      7\u001b[0m     \u001b[0mlemmatized_words\u001b[0m\u001b[0;34m.\u001b[0m\u001b[0mappend\u001b[0m\u001b[0;34m(\u001b[0m\u001b[0mlemmatizer\u001b[0m\u001b[0;34m.\u001b[0m\u001b[0mlemmatize\u001b[0m\u001b[0;34m(\u001b[0m\u001b[0mw\u001b[0m\u001b[0;34m)\u001b[0m\u001b[0;34m)\u001b[0m\u001b[0;34m\u001b[0m\u001b[0m\n\u001b[1;32m      8\u001b[0m \u001b[0mprint\u001b[0m\u001b[0;34m(\u001b[0m\u001b[0mlemmatized_words\u001b[0m\u001b[0;34m)\u001b[0m\u001b[0;34m\u001b[0m\u001b[0m\n",
      "\u001b[0;31mNameError\u001b[0m: name 'words' is not defined"
     ]
    }
   ],
   "source": [
    "from nltk.stem import PorterStemmer, WordNetLemmatizer\n",
    "\n",
    "#applying lemmatisation on the original words\n",
    "lemmatizer = WordNetLemmatizer()\n",
    "lemmatized_words =[]\n",
    "for w in words:\n",
    "    lemmatized_words.append(lemmatizer.lemmatize(w))\n",
    "print(lemmatized_words)\n",
    "\n",
    "#applying lemmatisation on POS tagged words\n",
    "\n",
    "lemmatized = []\n",
    "for t in postagged:\n",
    "    lemmatized.append(lemmatizer.lemmatize(t[0], t[1]))\n",
    "print(lemmatized)          \n",
    "\n"
   ]
  },
  {
   "cell_type": "markdown",
   "metadata": {},
   "source": [
    "# Inverse Term Frequency"
   ]
  },
  {
   "cell_type": "markdown",
   "metadata": {},
   "source": [
    "Simple word frequency can be a reasonably effective way\n",
    "to look at a single document.\n",
    "But when you have a large corpus of documents, common words can\n",
    "appear frequently in multiple documents.\n",
    "And a simple count of how many times a word occurs in total\n",
    "might not reflect its importance within an individual document.\n",
    "\n",
    "So to deal with that, we use a more sophisticated measure of\n",
    "word importance that combines two metrics named term frequency\n",
    "and inverse document frequency.\n",
    "\n"
   ]
  },
  {
   "cell_type": "markdown",
   "metadata": {},
   "source": [
    "Let's start with term frequency.\n",
    "This is simply the relative frequency of a term within a document. For example if we have 3 documents containing the following texts:\n",
    "\n",
    "\"That which we call a rose by any other name would smell as sweet\"\n",
    "\n",
    "\"Good night sweet prince\"\n",
    "\n",
    "\"Parting is such sweet sorrow\"\n",
    "\n",
    "In the first document, we have a total of 14 words and \n",
    "the word sweet appears once out of a total of 14 words. Its relative frequency is 1/14 = 0.07\n",
    "The word rose appears with the same frequency within this document.\n",
    "\n"
   ]
  },
  {
   "cell_type": "markdown",
   "metadata": {},
   "source": [
    "Now let's look at the inverse document frequency.\n",
    "This is a measure of the relative number of documents\n",
    "within which the term appears.\n",
    "It's calculated as the log of total documents divided by\n",
    "the number of documents containing the term.\n",
    "Now the term rose appears only in the first quote.\n",
    "So we can calculate its relative importance in that\n",
    "document like this: log(3/1) = 0.48.\n",
    "However, sweet appears in all three quotes,\n",
    "lowering its relative importance in individual documents to zero.\n",
    "And it's a similar story for the other quotes.\n",
    "Prince and sorrow score higher IDFs because they don't\n",
    "appear in the other documents and are therefore relatively\n",
    "more important in the documents in which they do appear.\n",
    "And finally, we just multiply TF by IDF to work out the overall\n",
    "importance of each term to the documents in which they appear.\n",
    "For example,\n",
    "the prevalence of the word sweet across the collection of\n",
    "documents has effectively diluted its importance\n",
    "within the individual documents.\n"
   ]
  },
  {
   "cell_type": "markdown",
   "metadata": {},
   "source": [
    "### Bag of words"
   ]
  },
  {
   "cell_type": "markdown",
   "metadata": {},
   "source": [
    "This is the core of a bag of words implementation. Naturally, once we've translated the linguistic content of text into numerical vectors, we're able to start using techniques that add sophistication to how we use this text in classification.\n",
    "One option is to use weighted terms. We can use a term weighting scheme to modify the values within each vector so that terms that are indicative or helpful for classification are emphasized. Weighting schemes may be straightforward masks, such as a binary mask that indicates presence versus absence.\n",
    "Binary masking can be useful if certain terms are used much more frequently than normal; in such cases, specific scaling (for example, log-scaling) may be needed if\n",
    "a binary mask is not used. At the same time, though, frequency of term use can be informative (it may indicate emphasis, for instance) and the decision over whether to apply a binary mask is not always made simply.\n",
    "Another weighting option is term frequency-inverse document frequency, or tf-idf. This scheme compares frequency of usage within a specific sentence and the dataset as a whole and uses values that increase if a term is used more frequently within a given sample than within the whole corpus.\n",
    "Variations on tf-idf are frequently used in text mining contexts, including search engines. Scikit-learn provides a tf-idf implementation, TfidfVectoriser, which we'll shortly use to employ tf-idf for ourselves.\n"
   ]
  },
  {
   "cell_type": "code",
   "execution_count": 35,
   "metadata": {},
   "outputs": [
    {
     "name": "stdout",
     "output_type": "stream",
     "text": [
      "[[0. 0. 0. ... 0. 0. 0.]\n",
      " [0. 0. 0. ... 0. 0. 0.]\n",
      " [0. 0. 0. ... 0. 0. 0.]\n",
      " ...\n",
      " [0. 0. 0. ... 0. 0. 0.]\n",
      " [0. 0. 0. ... 0. 0. 0.]\n",
      " [0. 0. 0. ... 0. 0. 0.]]\n"
     ]
    }
   ],
   "source": [
    "from sklearn.feature_extraction.text import TfidfVectorizer\n",
    "vectorizer = TfidfVectorizer(analyzer = \"word\", tokenizer = None,\n",
    "      preprocessor = None, stop_words = None,  max_features = 5000)\n",
    "#vectorizer = TfidfVectorizer(analyzer = \"word\",input=\"file\", ngram_range = (1,3), min_df = 0, stop_words = swds, max_features=5000)\n",
    "\n",
    "train_data_features = vectorizer.fit_transform(lemmatized)\n",
    "\n",
    "train_data_features = train_data_features.toarray()\n",
    "print(train_data_features)"
   ]
  },
  {
   "cell_type": "code",
   "execution_count": 36,
   "metadata": {},
   "outputs": [
    {
     "name": "stdout",
     "output_type": "stream",
     "text": [
      "['and', 'document', 'first', 'is', 'one', 'second', 'the', 'third', 'this']\n",
      "(4, 9)\n"
     ]
    }
   ],
   "source": [
    "corpus = [\n",
    "     'This is the first document.',\n",
    "     'This document is the second document.',\n",
    "     'And this is the third one.',\n",
    "     'Is this the first document?',\n",
    "]\n",
    "vectorizer = TfidfVectorizer()\n",
    "X = vectorizer.fit_transform(corpus)\n",
    "print(vectorizer.get_feature_names())\n",
    "print(X.shape)\n"
   ]
  },
  {
   "cell_type": "markdown",
   "metadata": {},
   "source": [
    "### Word Clouds"
   ]
  },
  {
   "cell_type": "markdown",
   "metadata": {},
   "source": [
    "Words clouds can be an effective way to look into a corpus and to quickly identify the most important words in this corpus. "
   ]
  },
  {
   "cell_type": "code",
   "execution_count": 52,
   "metadata": {},
   "outputs": [
    {
     "name": "stdout",
     "output_type": "stream",
     "text": [
      "['gallup daily may update daily pm et reflect one day change no update monday may next update tuesday may obama approval obama disapproval presidential election obama romney day roll average it seem bump romney get president game ']\n"
     ]
    },
    {
     "data": {
      "image/png": "[encoded data removed]",
      "text/plain": [
       "<matplotlib.figure.Figure at 0x1a1b9ed710>"
      ]
     },
     "metadata": {},
     "output_type": "display_data"
    }
   ],
   "source": [
    "sudo conda install -c conda-forge wordcloud=1.2.1\n",
    "import string\n",
    "from wordcloud import WordCloud\n",
    "import matplotlib.pyplot as plt\n",
    "\n",
    "temp_filter = \"\"\n",
    "filtered_comments = []\n",
    "for w in lemmatized:\n",
    "    temp_filter += str(w)\n",
    "    temp_filter += ' '\n",
    "filtered_comments.append(temp_filter)\n",
    "print(filtered_comments)\n",
    "filtered_comments_str = ' '.join(filtered_comments) \n",
    "sentiment = WordCloud(background_color = 'orange', max_words=100)\n",
    "sentiment.generate(filtered_comments_str)\n",
    "#sentiment.generate('Hello, my name is Hanan. Today is a good day. very very wonderfull. Whatever')\n",
    "plt.figure()\n",
    "plt.imshow(sentiment)\n",
    "plt.axis(\"off\")\n",
    "plt.show()"
   ]
  },
  {
   "cell_type": "code",
   "execution_count": null,
   "metadata": {},
   "outputs": [],
   "source": []
  },
  {
   "cell_type": "code",
   "execution_count": null,
   "metadata": {},
   "outputs": [],
   "source": []
  }
 ],
 "metadata": {
  "kernelspec": {
   "display_name": "Python 3",
   "language": "python",
   "name": "python3"
  },
  "language_info": {
   "codemirror_mode": {
    "name": "ipython",
    "version": 3
   },
   "file_extension": ".py",
   "mimetype": "text/x-python",
   "name": "python",
   "nbconvert_exporter": "python",
   "pygments_lexer": "ipython3",
   "version": "3.6.4"
  }
 },
 "nbformat": 4,
 "nbformat_minor": 2
}
